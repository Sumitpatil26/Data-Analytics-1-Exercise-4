{
  "nbformat": 4,
  "nbformat_minor": 0,
  "metadata": {
    "colab": {
      "provenance": []
    },
    "kernelspec": {
      "name": "python3",
      "display_name": "Python 3"
    },
    "language_info": {
      "name": "python"
    }
  },
  "cells": [
    {
      "cell_type": "code",
      "source": [
        "import pandas as pd\n",
        "import numpy as np\n",
        "from sklearn.impute import SimpleImputer\n",
        "from sklearn.preprocessing import StandardScaler, MinMaxScaler\n",
        "from sklearn.feature_selection import SelectKBest, mutual_info_classif, RFE\n",
        "from sklearn.linear_model import LogisticRegression, LassoCV\n",
        "from sklearn.model_selection import train_test_split\n",
        "\n",
        "from google.colab import files\n",
        "x = files.upload()\n",
        "\n",
        "# Load the dataset\n",
        "file_path = list(x.keys())[0]\n",
        "df = pd.read_excel(file_path)\n",
        "\n",
        "# Preview the dataset\n",
        "print(\"\\nDataset Head:\")\n",
        "print(df.head())"
      ],
      "metadata": {
        "colab": {
          "base_uri": "https://localhost:8080/",
          "height": 212
        },
        "id": "EfU845uGPX9S",
        "outputId": "4315f0bb-6f87-4179-e83e-96eeb7ae1519"
      },
      "execution_count": 145,
      "outputs": [
        {
          "output_type": "display_data",
          "data": {
            "text/plain": [
              "<IPython.core.display.HTML object>"
            ],
            "text/html": [
              "\n",
              "     <input type=\"file\" id=\"files-4b9f13cf-f2fd-40c9-8c4c-eaa2ccb22e35\" name=\"files[]\" multiple disabled\n",
              "        style=\"border:none\" />\n",
              "     <output id=\"result-4b9f13cf-f2fd-40c9-8c4c-eaa2ccb22e35\">\n",
              "      Upload widget is only available when the cell has been executed in the\n",
              "      current browser session. Please rerun this cell to enable.\n",
              "      </output>\n",
              "      <script>// Copyright 2017 Google LLC\n",
              "//\n",
              "// Licensed under the Apache License, Version 2.0 (the \"License\");\n",
              "// you may not use this file except in compliance with the License.\n",
              "// You may obtain a copy of the License at\n",
              "//\n",
              "//      http://www.apache.org/licenses/LICENSE-2.0\n",
              "//\n",
              "// Unless required by applicable law or agreed to in writing, software\n",
              "// distributed under the License is distributed on an \"AS IS\" BASIS,\n",
              "// WITHOUT WARRANTIES OR CONDITIONS OF ANY KIND, either express or implied.\n",
              "// See the License for the specific language governing permissions and\n",
              "// limitations under the License.\n",
              "\n",
              "/**\n",
              " * @fileoverview Helpers for google.colab Python module.\n",
              " */\n",
              "(function(scope) {\n",
              "function span(text, styleAttributes = {}) {\n",
              "  const element = document.createElement('span');\n",
              "  element.textContent = text;\n",
              "  for (const key of Object.keys(styleAttributes)) {\n",
              "    element.style[key] = styleAttributes[key];\n",
              "  }\n",
              "  return element;\n",
              "}\n",
              "\n",
              "// Max number of bytes which will be uploaded at a time.\n",
              "const MAX_PAYLOAD_SIZE = 100 * 1024;\n",
              "\n",
              "function _uploadFiles(inputId, outputId) {\n",
              "  const steps = uploadFilesStep(inputId, outputId);\n",
              "  const outputElement = document.getElementById(outputId);\n",
              "  // Cache steps on the outputElement to make it available for the next call\n",
              "  // to uploadFilesContinue from Python.\n",
              "  outputElement.steps = steps;\n",
              "\n",
              "  return _uploadFilesContinue(outputId);\n",
              "}\n",
              "\n",
              "// This is roughly an async generator (not supported in the browser yet),\n",
              "// where there are multiple asynchronous steps and the Python side is going\n",
              "// to poll for completion of each step.\n",
              "// This uses a Promise to block the python side on completion of each step,\n",
              "// then passes the result of the previous step as the input to the next step.\n",
              "function _uploadFilesContinue(outputId) {\n",
              "  const outputElement = document.getElementById(outputId);\n",
              "  const steps = outputElement.steps;\n",
              "\n",
              "  const next = steps.next(outputElement.lastPromiseValue);\n",
              "  return Promise.resolve(next.value.promise).then((value) => {\n",
              "    // Cache the last promise value to make it available to the next\n",
              "    // step of the generator.\n",
              "    outputElement.lastPromiseValue = value;\n",
              "    return next.value.response;\n",
              "  });\n",
              "}\n",
              "\n",
              "/**\n",
              " * Generator function which is called between each async step of the upload\n",
              " * process.\n",
              " * @param {string} inputId Element ID of the input file picker element.\n",
              " * @param {string} outputId Element ID of the output display.\n",
              " * @return {!Iterable<!Object>} Iterable of next steps.\n",
              " */\n",
              "function* uploadFilesStep(inputId, outputId) {\n",
              "  const inputElement = document.getElementById(inputId);\n",
              "  inputElement.disabled = false;\n",
              "\n",
              "  const outputElement = document.getElementById(outputId);\n",
              "  outputElement.innerHTML = '';\n",
              "\n",
              "  const pickedPromise = new Promise((resolve) => {\n",
              "    inputElement.addEventListener('change', (e) => {\n",
              "      resolve(e.target.files);\n",
              "    });\n",
              "  });\n",
              "\n",
              "  const cancel = document.createElement('button');\n",
              "  inputElement.parentElement.appendChild(cancel);\n",
              "  cancel.textContent = 'Cancel upload';\n",
              "  const cancelPromise = new Promise((resolve) => {\n",
              "    cancel.onclick = () => {\n",
              "      resolve(null);\n",
              "    };\n",
              "  });\n",
              "\n",
              "  // Wait for the user to pick the files.\n",
              "  const files = yield {\n",
              "    promise: Promise.race([pickedPromise, cancelPromise]),\n",
              "    response: {\n",
              "      action: 'starting',\n",
              "    }\n",
              "  };\n",
              "\n",
              "  cancel.remove();\n",
              "\n",
              "  // Disable the input element since further picks are not allowed.\n",
              "  inputElement.disabled = true;\n",
              "\n",
              "  if (!files) {\n",
              "    return {\n",
              "      response: {\n",
              "        action: 'complete',\n",
              "      }\n",
              "    };\n",
              "  }\n",
              "\n",
              "  for (const file of files) {\n",
              "    const li = document.createElement('li');\n",
              "    li.append(span(file.name, {fontWeight: 'bold'}));\n",
              "    li.append(span(\n",
              "        `(${file.type || 'n/a'}) - ${file.size} bytes, ` +\n",
              "        `last modified: ${\n",
              "            file.lastModifiedDate ? file.lastModifiedDate.toLocaleDateString() :\n",
              "                                    'n/a'} - `));\n",
              "    const percent = span('0% done');\n",
              "    li.appendChild(percent);\n",
              "\n",
              "    outputElement.appendChild(li);\n",
              "\n",
              "    const fileDataPromise = new Promise((resolve) => {\n",
              "      const reader = new FileReader();\n",
              "      reader.onload = (e) => {\n",
              "        resolve(e.target.result);\n",
              "      };\n",
              "      reader.readAsArrayBuffer(file);\n",
              "    });\n",
              "    // Wait for the data to be ready.\n",
              "    let fileData = yield {\n",
              "      promise: fileDataPromise,\n",
              "      response: {\n",
              "        action: 'continue',\n",
              "      }\n",
              "    };\n",
              "\n",
              "    // Use a chunked sending to avoid message size limits. See b/62115660.\n",
              "    let position = 0;\n",
              "    do {\n",
              "      const length = Math.min(fileData.byteLength - position, MAX_PAYLOAD_SIZE);\n",
              "      const chunk = new Uint8Array(fileData, position, length);\n",
              "      position += length;\n",
              "\n",
              "      const base64 = btoa(String.fromCharCode.apply(null, chunk));\n",
              "      yield {\n",
              "        response: {\n",
              "          action: 'append',\n",
              "          file: file.name,\n",
              "          data: base64,\n",
              "        },\n",
              "      };\n",
              "\n",
              "      let percentDone = fileData.byteLength === 0 ?\n",
              "          100 :\n",
              "          Math.round((position / fileData.byteLength) * 100);\n",
              "      percent.textContent = `${percentDone}% done`;\n",
              "\n",
              "    } while (position < fileData.byteLength);\n",
              "  }\n",
              "\n",
              "  // All done.\n",
              "  yield {\n",
              "    response: {\n",
              "      action: 'complete',\n",
              "    }\n",
              "  };\n",
              "}\n",
              "\n",
              "scope.google = scope.google || {};\n",
              "scope.google.colab = scope.google.colab || {};\n",
              "scope.google.colab._files = {\n",
              "  _uploadFiles,\n",
              "  _uploadFilesContinue,\n",
              "};\n",
              "})(self);\n",
              "</script> "
            ]
          },
          "metadata": {}
        },
        {
          "output_type": "stream",
          "name": "stdout",
          "text": [
            "Saving Book3.xlsx to Book3 (16).xlsx\n",
            "\n",
            "Dataset Head:\n",
            "   ID   Age   Salary  Gender   Department  Score\n",
            "0   1  25.0  50000.0    Male        Sales   85.0\n",
            "1   2  30.0  60000.0  Female  Engineering   90.0\n",
            "2   3  28.0  55000.0    Male           HR  105.0\n",
            "3   4  22.0      NaN  Female        Sales   70.0\n",
            "4   5  35.0  75000.0     NaN  Engineering    NaN\n"
          ]
        }
      ]
    },
    {
      "cell_type": "markdown",
      "source": [
        "Upload and Load the Data :\n",
        "\n",
        "This code uploads a file using files.upload() from Google Colab and loads it into a Pandas DataFrame. So I upload the file and load it. Then displays the first few rows to preview the data."
      ],
      "metadata": {
        "id": "LeEPfwXbKpkp"
      }
    },
    {
      "cell_type": "code",
      "source": [
        "print(\"Dataset Info:\")\n",
        "print(df.info())"
      ],
      "metadata": {
        "colab": {
          "base_uri": "https://localhost:8080/"
        },
        "id": "BlGByKEsTWrY",
        "outputId": "d87af322-5c6f-4f5b-b4d7-b38b7d42c6d8"
      },
      "execution_count": 146,
      "outputs": [
        {
          "output_type": "stream",
          "name": "stdout",
          "text": [
            "Dataset Info:\n",
            "<class 'pandas.core.frame.DataFrame'>\n",
            "RangeIndex: 10 entries, 0 to 9\n",
            "Data columns (total 6 columns):\n",
            " #   Column      Non-Null Count  Dtype  \n",
            "---  ------      --------------  -----  \n",
            " 0   ID          10 non-null     int64  \n",
            " 1   Age         9 non-null      float64\n",
            " 2   Salary      9 non-null      float64\n",
            " 3   Gender      9 non-null      object \n",
            " 4   Department  10 non-null     object \n",
            " 5   Score       9 non-null      float64\n",
            "dtypes: float64(3), int64(1), object(2)\n",
            "memory usage: 608.0+ bytes\n",
            "None\n"
          ]
        }
      ]
    },
    {
      "cell_type": "markdown",
      "source": [
        "Check data types and missing values."
      ],
      "metadata": {
        "id": "pNEOkvoyM1L1"
      }
    },
    {
      "cell_type": "code",
      "source": [
        "# 1. Handling Missing Values:\n",
        "# Identify missing values\n",
        "print(\"Missing values before imputation:\\n\", df.isnull().sum())"
      ],
      "metadata": {
        "colab": {
          "base_uri": "https://localhost:8080/"
        },
        "id": "UQ9wA4frTbXI",
        "outputId": "0b20066b-1aa2-4bfa-82a3-c91b59f4f96d"
      },
      "execution_count": 147,
      "outputs": [
        {
          "output_type": "stream",
          "name": "stdout",
          "text": [
            "Missing values before imputation:\n",
            " ID            0\n",
            "Age           1\n",
            "Salary        1\n",
            "Gender        1\n",
            "Department    0\n",
            "Score         1\n",
            "dtype: int64\n"
          ]
        }
      ]
    },
    {
      "cell_type": "code",
      "source": [
        "# Impute missing values for numerical features with mean\n",
        "df['Age_mean'] = df['Age'].fillna(df['Age'].mean(), inplace=True)\n",
        "df['Salary_mean'] = df['Salary'].fillna(df['Salary'].mean(), inplace=True)\n",
        "df['Score_mean'] = df['Score'].fillna(df['Score'].mean(), inplace=True)\n",
        "\n",
        "# Impute missing values for categorical features with mode\n",
        "df['Gender_mode'] = df['Gender'].fillna(df['Gender'].mode()[0], inplace=True)\n",
        "\n",
        "df.head()\n",
        "print(\"Missing values after imputation:\\n\", df.isnull().sum())"
      ],
      "metadata": {
        "colab": {
          "base_uri": "https://localhost:8080/"
        },
        "id": "xMcGjd0qaOdK",
        "outputId": "063f4332-fa3a-46a2-939b-2804511bdf9f"
      },
      "execution_count": 148,
      "outputs": [
        {
          "output_type": "stream",
          "name": "stdout",
          "text": [
            "Missing values after imputation:\n",
            " ID              0\n",
            "Age             0\n",
            "Salary          0\n",
            "Gender          0\n",
            "Department      0\n",
            "Score           0\n",
            "Age_mean       10\n",
            "Salary_mean    10\n",
            "Score_mean     10\n",
            "Gender_mode    10\n",
            "dtype: int64\n"
          ]
        },
        {
          "output_type": "stream",
          "name": "stderr",
          "text": [
            "<ipython-input-148-b7f3739b494b>:2: FutureWarning: A value is trying to be set on a copy of a DataFrame or Series through chained assignment using an inplace method.\n",
            "The behavior will change in pandas 3.0. This inplace method will never work because the intermediate object on which we are setting values always behaves as a copy.\n",
            "\n",
            "For example, when doing 'df[col].method(value, inplace=True)', try using 'df.method({col: value}, inplace=True)' or df[col] = df[col].method(value) instead, to perform the operation inplace on the original object.\n",
            "\n",
            "\n",
            "  df['Age_mean'] = df['Age'].fillna(df['Age'].mean(), inplace=True)\n",
            "<ipython-input-148-b7f3739b494b>:3: FutureWarning: A value is trying to be set on a copy of a DataFrame or Series through chained assignment using an inplace method.\n",
            "The behavior will change in pandas 3.0. This inplace method will never work because the intermediate object on which we are setting values always behaves as a copy.\n",
            "\n",
            "For example, when doing 'df[col].method(value, inplace=True)', try using 'df.method({col: value}, inplace=True)' or df[col] = df[col].method(value) instead, to perform the operation inplace on the original object.\n",
            "\n",
            "\n",
            "  df['Salary_mean'] = df['Salary'].fillna(df['Salary'].mean(), inplace=True)\n",
            "<ipython-input-148-b7f3739b494b>:4: FutureWarning: A value is trying to be set on a copy of a DataFrame or Series through chained assignment using an inplace method.\n",
            "The behavior will change in pandas 3.0. This inplace method will never work because the intermediate object on which we are setting values always behaves as a copy.\n",
            "\n",
            "For example, when doing 'df[col].method(value, inplace=True)', try using 'df.method({col: value}, inplace=True)' or df[col] = df[col].method(value) instead, to perform the operation inplace on the original object.\n",
            "\n",
            "\n",
            "  df['Score_mean'] = df['Score'].fillna(df['Score'].mean(), inplace=True)\n",
            "<ipython-input-148-b7f3739b494b>:7: FutureWarning: A value is trying to be set on a copy of a DataFrame or Series through chained assignment using an inplace method.\n",
            "The behavior will change in pandas 3.0. This inplace method will never work because the intermediate object on which we are setting values always behaves as a copy.\n",
            "\n",
            "For example, when doing 'df[col].method(value, inplace=True)', try using 'df.method({col: value}, inplace=True)' or df[col] = df[col].method(value) instead, to perform the operation inplace on the original object.\n",
            "\n",
            "\n",
            "  df['Gender_mode'] = df['Gender'].fillna(df['Gender'].mode()[0], inplace=True)\n"
          ]
        }
      ]
    },
    {
      "cell_type": "markdown",
      "source": [
        "1. Handling Missing Values:\n",
        "\n",
        "Checks for missing values in each column then identify and impute missing values with mean for numerical features and mode for categorical features."
      ],
      "metadata": {
        "id": "7nktBPdgM9ih"
      }
    },
    {
      "cell_type": "code",
      "source": [
        "# 2. Scaling Data:\n",
        "scaler = StandardScaler()\n",
        "\n",
        "# Scale numerical features using Z-score:\n",
        "for col in num_features:\n",
        "    df[f\"{col}_Z\"] = scaler.fit_transform(df[[col]])\n",
        "\n",
        "# Display results\n",
        "print(\"Data after standardization (Z-score):\")\n",
        "print(df.head())\n",
        "\n",
        "# Scale numerical features using Min-Max scaling:\n",
        "minmax_scaler = MinMaxScaler()\n",
        "for col in num_features:\n",
        "    df[f\"{col}_MinMax\"] = minmax_scaler.fit_transform(df[[col]])\n",
        "\n",
        "# Display results\n",
        "print(\"\\nData after Min-Max Scaling:\")\n",
        "print(df.head())"
      ],
      "metadata": {
        "id": "oq-ooyIcTi2p",
        "colab": {
          "base_uri": "https://localhost:8080/"
        },
        "outputId": "162d9a4d-5892-4d28-b3c6-b57a16659b72"
      },
      "execution_count": 149,
      "outputs": [
        {
          "output_type": "stream",
          "name": "stdout",
          "text": [
            "Data after standardization (Z-score):\n",
            "   ID   Age        Salary  Gender   Department       Score Age_mean  \\\n",
            "0   1  25.0  50000.000000    Male        Sales   85.000000     None   \n",
            "1   2  30.0  60000.000000  Female  Engineering   90.000000     None   \n",
            "2   3  28.0  55000.000000    Male           HR  105.000000     None   \n",
            "3   4  22.0  62222.222222  Female        Sales   70.000000     None   \n",
            "4   5  35.0  75000.000000    Male  Engineering   85.333333     None   \n",
            "\n",
            "  Salary_mean Score_mean Gender_mode      ID_Z     Age_Z      Salary_Z  \\\n",
            "0        None       None        None -1.566699 -1.004472 -4.788959e-01   \n",
            "1        None       None        None -1.218544  0.022829 -8.707198e-02   \n",
            "2        None       None        None -0.870388 -0.388091 -2.829839e-01   \n",
            "3        None       None        None -0.522233 -1.620852 -2.850894e-16   \n",
            "4        None       None        None -0.174078  1.050130  5.006639e-01   \n",
            "\n",
            "    Score_Z  \n",
            "0 -0.029743  \n",
            "1  0.416401  \n",
            "2  1.754834  \n",
            "3 -1.368175  \n",
            "4  0.000000  \n",
            "\n",
            "Data after Min-Max Scaling:\n",
            "   ID   Age        Salary  Gender   Department       Score Age_mean  \\\n",
            "0   1  25.0  50000.000000    Male        Sales   85.000000     None   \n",
            "1   2  30.0  60000.000000  Female  Engineering   90.000000     None   \n",
            "2   3  28.0  55000.000000    Male           HR  105.000000     None   \n",
            "3   4  22.0  62222.222222  Female        Sales   70.000000     None   \n",
            "4   5  35.0  75000.000000    Male  Engineering   85.333333     None   \n",
            "\n",
            "  Salary_mean Score_mean Gender_mode      ID_Z     Age_Z      Salary_Z  \\\n",
            "0        None       None        None -1.566699 -1.004472 -4.788959e-01   \n",
            "1        None       None        None -1.218544  0.022829 -8.707198e-02   \n",
            "2        None       None        None -0.870388 -0.388091 -2.829839e-01   \n",
            "3        None       None        None -0.522233 -1.620852 -2.850894e-16   \n",
            "4        None       None        None -0.174078  1.050130  5.006639e-01   \n",
            "\n",
            "    Score_Z  ID_MinMax  Age_MinMax  Salary_MinMax  Score_MinMax  \n",
            "0 -0.029743   0.000000    0.166667       0.363636      0.500000  \n",
            "1  0.416401   0.111111    0.444444       0.454545      0.625000  \n",
            "2  1.754834   0.222222    0.333333       0.409091      1.000000  \n",
            "3 -1.368175   0.333333    0.000000       0.474747      0.125000  \n",
            "4  0.000000   0.444444    0.722222       0.590909      0.508333  \n"
          ]
        }
      ]
    },
    {
      "cell_type": "markdown",
      "source": [
        "2. Scaling Data:\n",
        "\n",
        "Scale numerical features using standardization with Z-score and normalization with Min-Max scaling."
      ],
      "metadata": {
        "id": "T0U4qPTFNote"
      }
    },
    {
      "cell_type": "code",
      "source": [
        "# 3. Handling Noise:\n",
        "# Inject random noise into one of the numerical features:\n",
        "noise_col = num_features[0]\n",
        "noise = np.random.normal(0, 0.5, df.shape[0])\n",
        "df[f\"{noise_col}_Noise\"] = df[noise_col] + noise\n",
        "\n",
        "# Smooth noise using a rolling mean:\n",
        "df[f\"{noise_col}_Smoothed\"] = df[f\"{noise_col}_Noise\"].rolling(window=3, center=True).mean().fillna(df[f\"{noise_col}_Noise\"])\n",
        "\n",
        "# Display results\n",
        "print(\"Noisy Data Head:\")\n",
        "print(df.head())"
      ],
      "metadata": {
        "id": "2B2EGFpKToOG",
        "colab": {
          "base_uri": "https://localhost:8080/"
        },
        "outputId": "ed32c3a1-db79-44d7-e3b4-362c59fdf3cb"
      },
      "execution_count": 150,
      "outputs": [
        {
          "output_type": "stream",
          "name": "stdout",
          "text": [
            "Noisy Data Head:\n",
            "   ID   Age        Salary  Gender   Department       Score Age_mean  \\\n",
            "0   1  25.0  50000.000000    Male        Sales   85.000000     None   \n",
            "1   2  30.0  60000.000000  Female  Engineering   90.000000     None   \n",
            "2   3  28.0  55000.000000    Male           HR  105.000000     None   \n",
            "3   4  22.0  62222.222222  Female        Sales   70.000000     None   \n",
            "4   5  35.0  75000.000000    Male  Engineering   85.333333     None   \n",
            "\n",
            "  Salary_mean Score_mean Gender_mode      ID_Z     Age_Z      Salary_Z  \\\n",
            "0        None       None        None -1.566699 -1.004472 -4.788959e-01   \n",
            "1        None       None        None -1.218544  0.022829 -8.707198e-02   \n",
            "2        None       None        None -0.870388 -0.388091 -2.829839e-01   \n",
            "3        None       None        None -0.522233 -1.620852 -2.850894e-16   \n",
            "4        None       None        None -0.174078  1.050130  5.006639e-01   \n",
            "\n",
            "    Score_Z  ID_MinMax  Age_MinMax  Salary_MinMax  Score_MinMax  ID_Noise  \\\n",
            "0 -0.029743   0.000000    0.166667       0.363636      0.500000  0.375199   \n",
            "1  0.416401   0.111111    0.444444       0.454545      0.625000  2.023175   \n",
            "2  1.754834   0.222222    0.333333       0.409091      1.000000  2.916547   \n",
            "3 -1.368175   0.333333    0.000000       0.474747      0.125000  3.990531   \n",
            "4  0.000000   0.444444    0.722222       0.590909      0.508333  4.919851   \n",
            "\n",
            "   ID_Smoothed  \n",
            "0     0.375199  \n",
            "1     1.771641  \n",
            "2     2.976751  \n",
            "3     3.942310  \n",
            "4     4.790223  \n"
          ]
        }
      ]
    },
    {
      "cell_type": "markdown",
      "source": [
        "3. Handling Noise:\n",
        "\n",
        "Random noise is added to one numerical column to simulate noisy data.\n",
        "Noise is generated from a normal distribution with mean 0 and standard deviation 0.5. A new column is created with the noisy version of the original column. A rolling mean with a window size of 3 is applied to smooth the noise. Missing values introduced by rolling are filled with original noisy values."
      ],
      "metadata": {
        "id": "ri6-BDmtOAr9"
      }
    },
    {
      "cell_type": "code",
      "source": [
        "# 4. Handling Outliers:\n",
        "# Detect outliers using Z-score\n",
        "for col in num_features:\n",
        "    z_scores = np.abs((df[col] - df[col].mean()) / df[col].std())\n",
        "    df[f\"{col}_Outlier\"] = z_scores > 3\n",
        "\n",
        "print(\"Data with Outliers Head:\")\n",
        "print(df.head())\n",
        "\n",
        "# Remove outliers for demonstration:\n",
        "# Applying all() to the boolean condition (z_scores <= 3) to filter the DataFrame:\n",
        "df_no_outliers = df[(z_scores <= 3)]\n",
        "\n",
        "# Display results\n",
        "print(\"\\nData without Outliers Head:\")\n",
        "print(df_no_outliers.head())"
      ],
      "metadata": {
        "id": "rOA05mrRTsqi",
        "colab": {
          "base_uri": "https://localhost:8080/"
        },
        "outputId": "abab8507-0d74-4380-d111-fafb4f7886cd"
      },
      "execution_count": 151,
      "outputs": [
        {
          "output_type": "stream",
          "name": "stdout",
          "text": [
            "Data with Outliers Head:\n",
            "   ID   Age        Salary  Gender   Department       Score Age_mean  \\\n",
            "0   1  25.0  50000.000000    Male        Sales   85.000000     None   \n",
            "1   2  30.0  60000.000000  Female  Engineering   90.000000     None   \n",
            "2   3  28.0  55000.000000    Male           HR  105.000000     None   \n",
            "3   4  22.0  62222.222222  Female        Sales   70.000000     None   \n",
            "4   5  35.0  75000.000000    Male  Engineering   85.333333     None   \n",
            "\n",
            "  Salary_mean Score_mean Gender_mode  ...  ID_MinMax  Age_MinMax  \\\n",
            "0        None       None        None  ...   0.000000    0.166667   \n",
            "1        None       None        None  ...   0.111111    0.444444   \n",
            "2        None       None        None  ...   0.222222    0.333333   \n",
            "3        None       None        None  ...   0.333333    0.000000   \n",
            "4        None       None        None  ...   0.444444    0.722222   \n",
            "\n",
            "   Salary_MinMax  Score_MinMax  ID_Noise  ID_Smoothed  ID_Outlier  \\\n",
            "0       0.363636      0.500000  0.375199     0.375199       False   \n",
            "1       0.454545      0.625000  2.023175     1.771641       False   \n",
            "2       0.409091      1.000000  2.916547     2.976751       False   \n",
            "3       0.474747      0.125000  3.990531     3.942310       False   \n",
            "4       0.590909      0.508333  4.919851     4.790223       False   \n",
            "\n",
            "   Age_Outlier  Salary_Outlier  Score_Outlier  \n",
            "0        False           False          False  \n",
            "1        False           False          False  \n",
            "2        False           False          False  \n",
            "3        False           False          False  \n",
            "4        False           False          False  \n",
            "\n",
            "[5 rows x 24 columns]\n",
            "\n",
            "Data without Outliers Head:\n",
            "   ID   Age        Salary  Gender   Department       Score Age_mean  \\\n",
            "0   1  25.0  50000.000000    Male        Sales   85.000000     None   \n",
            "1   2  30.0  60000.000000  Female  Engineering   90.000000     None   \n",
            "2   3  28.0  55000.000000    Male           HR  105.000000     None   \n",
            "3   4  22.0  62222.222222  Female        Sales   70.000000     None   \n",
            "4   5  35.0  75000.000000    Male  Engineering   85.333333     None   \n",
            "\n",
            "  Salary_mean Score_mean Gender_mode  ...  ID_MinMax  Age_MinMax  \\\n",
            "0        None       None        None  ...   0.000000    0.166667   \n",
            "1        None       None        None  ...   0.111111    0.444444   \n",
            "2        None       None        None  ...   0.222222    0.333333   \n",
            "3        None       None        None  ...   0.333333    0.000000   \n",
            "4        None       None        None  ...   0.444444    0.722222   \n",
            "\n",
            "   Salary_MinMax  Score_MinMax  ID_Noise  ID_Smoothed  ID_Outlier  \\\n",
            "0       0.363636      0.500000  0.375199     0.375199       False   \n",
            "1       0.454545      0.625000  2.023175     1.771641       False   \n",
            "2       0.409091      1.000000  2.916547     2.976751       False   \n",
            "3       0.474747      0.125000  3.990531     3.942310       False   \n",
            "4       0.590909      0.508333  4.919851     4.790223       False   \n",
            "\n",
            "   Age_Outlier  Salary_Outlier  Score_Outlier  \n",
            "0        False           False          False  \n",
            "1        False           False          False  \n",
            "2        False           False          False  \n",
            "3        False           False          False  \n",
            "4        False           False          False  \n",
            "\n",
            "[5 rows x 24 columns]\n"
          ]
        }
      ]
    },
    {
      "cell_type": "markdown",
      "source": [
        "4. Handling Outliers:\n",
        "\n",
        "Detect outliers using Z-score then Remove outliers for demonstration and then Applying all() to the boolean condition (z_scores <= 3) to filter the DataFrame."
      ],
      "metadata": {
        "id": "vp69RbnxpFWV"
      }
    },
    {
      "cell_type": "code",
      "source": [
        "# 5. Feature Selection:\n",
        "Score_col = 'Score'\n",
        "\n",
        "# Convert categorical features to numerical using get_dummies\n",
        "# Check the current columns in the DataFrame\n",
        "print(df.columns)\n",
        "\n",
        "cat_features = [col for col in df.columns if col in ['Gender', 'Department'] and col != Score_col]\n",
        "df = pd.get_dummies(df, columns=cat_features, drop_first=True)\n",
        "\n",
        "# Split dataset\n",
        "X_train, X_test, y_train, y_test = train_test_split(X, y, test_size=0.3, random_state=42)\n",
        "\n",
        "# Impute missing values using SimpleImputer before feature selection\n",
        "from sklearn.impute import SimpleImputer\n",
        "imputer = SimpleImputer(strategy='mean')\n",
        "X_train = imputer.fit_transform(X_train)\n",
        "X_test = imputer.transform(X_test)\n",
        "\n",
        "# i) Filter Method - Mutual Information (using f_regression for continuous target)\n",
        "from sklearn.feature_selection import f_regression, SelectKBest\n",
        "selector_filter = SelectKBest(score_func=f_regression, k=3)\n",
        "X_train_filter = selector_filter.fit_transform(X_train, y_train)\n",
        "\n",
        "# ii) Wrapper Method - Recursive Feature Elimination\n",
        "from sklearn.feature_selection import RFE\n",
        "from sklearn.linear_model import LinearRegression\n",
        "model = LinearRegression()\n",
        "\n",
        "n_features_to_select = 5\n",
        "selector_rfe = RFE(estimator=model, n_features_to_select=n_features_to_select)\n",
        "# Initialize RFE with the model\n",
        "X_train_rfe = selector_rfe.fit_transform(X_train, y_train)\n",
        "\n",
        "# iii) Embedded Method - Lasso Regression\n",
        "from sklearn.linear_model import LassoCV\n",
        "lasso = LassoCV(cv=5)\n",
        "lasso.fit(X_train, y_train)\n",
        "selected_features = np.where(lasso.coef_ != 0)[0]\n",
        "\n",
        "# Display results\n",
        "print(\"\\nSelected features by Mutual Information:\", selector_filter.get_support(indices=True))\n",
        "print(\"\\nSelected features by RFE:\", selector_rfe.get_support(indices=True))\n",
        "print(\"\\nSelected features by Lasso Regression:\", selected_features)"
      ],
      "metadata": {
        "colab": {
          "base_uri": "https://localhost:8080/"
        },
        "id": "V9exHF2UlLf_",
        "outputId": "95e0019b-1206-45e3-d2cf-14db4bd0e4de"
      },
      "execution_count": 136,
      "outputs": [
        {
          "output_type": "stream",
          "name": "stdout",
          "text": [
            "Index(['ID', 'Age', 'Salary', 'Score', 'Age_mean', 'Salary_mean', 'Score_mean',\n",
            "       'Gender_mode', 'ID_Z', 'Age_Z', 'Salary_Z', 'Score_Z', 'ID_MinMax',\n",
            "       'Age_MinMax', 'Salary_MinMax', 'Score_MinMax', 'ID_Noise',\n",
            "       'ID_Smoothed', 'ID_Outlier', 'Age_Outlier', 'Salary_Outlier',\n",
            "       'Score_Outlier', 'Gender_Male', 'Department_HR',\n",
            "       'Department_Management', 'Department_Sales'],\n",
            "      dtype='object')\n",
            "\n",
            "Selected features by Mutual Information: [ 6 18 20]\n",
            "\n",
            "Selected features by RFE: [ 6 10 17 18 20]\n",
            "\n",
            "Selected features by Lasso Regression: [2]\n"
          ]
        },
        {
          "output_type": "stream",
          "name": "stderr",
          "text": [
            "/usr/local/lib/python3.10/dist-packages/sklearn/impute/_base.py:598: UserWarning: Skipping features without any observed values: ['Age_mean' 'Salary_mean' 'Score_mean' 'Gender_mode']. At least one non-missing value is needed for imputation with strategy='mean'.\n",
            "  warnings.warn(\n",
            "/usr/local/lib/python3.10/dist-packages/sklearn/impute/_base.py:598: UserWarning: Skipping features without any observed values: ['Age_mean' 'Salary_mean' 'Score_mean' 'Gender_mode']. At least one non-missing value is needed for imputation with strategy='mean'.\n",
            "  warnings.warn(\n"
          ]
        }
      ]
    }
  ]
}